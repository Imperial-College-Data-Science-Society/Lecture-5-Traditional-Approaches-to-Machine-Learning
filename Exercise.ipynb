{
 "cells": [
  {
   "cell_type": "markdown",
   "metadata": {},
   "source": [
    "# Exercise\n",
    "The goal of the exercise is to implement a Bayesian Classifier which filters spam emails."
   ]
  },
  {
   "cell_type": "code",
   "execution_count": null,
   "metadata": {},
   "outputs": [],
   "source": [
    "from collections import Counter\n",
    "from data import ham, spam\n",
    "from math import log, exp"
   ]
  },
  {
   "cell_type": "code",
   "execution_count": null,
   "metadata": {},
   "outputs": [],
   "source": [
    "# Load data\n",
    "ham_words = []\n",
    "spam_words = []\n",
    "for email in ham:\n",
    "    ham_words += email.words\n",
    "for email in spam:\n",
    "    spam_words += email.words\n",
    "\n",
    "ham_counts = Counter(ham_words)\n",
    "spam_counts = Counter(spam_words)\n",
    "\n",
    "print(\"{} spam and {} ham emails loaded.\".format(len(spam), len(ham)))"
   ]
  },
  {
   "cell_type": "markdown",
   "metadata": {},
   "source": [
    "## Determine word probabilities\n",
    "Given the data in our emails, we need to find the probability that a given word appears in a certain message type."
   ]
  },
  {
   "cell_type": "code",
   "execution_count": null,
   "metadata": {},
   "outputs": [],
   "source": [
    "# Conditional probability that a given word appears in a spam message\n",
    "def prob_word_given_spam(word):\n",
    "    # TODO\n",
    "    \n",
    "# Conditional probability that a given word appears in a ham message\n",
    "def prob_word_given_ham(word):\n",
    "    # TODO"
   ]
  },
  {
   "cell_type": "markdown",
   "metadata": {},
   "source": [
    "## Classify a given email\n",
    "To classify the emails, we use Bayes rule for computing conditional probabilities. We also assume the words occurrences are independent.\n",
    "\n",
    "Implement Bayes rule using the logarithmic expression\n",
    "\n",
    "$$\n",
    "  \\ln\\left( \\frac{1}{P(S|W)} - 1 \\right) = \\sum_i \\ln\\left( P(W_i|\\neg S) \\right) - \\ln\\left( P(W_i|S) \\right) + \\ln(P(\\neg S)) - \\ln(P(S)),\n",
    "$$\n",
    "\n",
    "to determine if a given message is spam or ham."
   ]
  },
  {
   "cell_type": "code",
   "execution_count": null,
   "metadata": {},
   "outputs": [],
   "source": [
    "# Probability a given email is spam\n",
    "# Note: email has a field `words` which contains a list with all words in the message\n",
    "def is_spam(email, prior=0.5):\n",
    "    # TODO"
   ]
  },
  {
   "cell_type": "markdown",
   "metadata": {},
   "source": [
    "## Run our classifier over the dataset\n",
    "\n",
    "The code below runs the classifier using the `is_spam` function defined above. Try adjusting the\n",
    "threshold and observe how it represents a trade-off between false negatives, false positives, and\n",
    "total error rate.\n",
    "\n",
    "Which of these is most important in the case of email processing?"
   ]
  },
  {
   "cell_type": "code",
   "execution_count": null,
   "metadata": {},
   "outputs": [],
   "source": [
    "# What spam probibility rejects the message as spam\n",
    "threshold = 0.9\n",
    "\n",
    "fail_spam = 0\n",
    "fail_ham = 0\n",
    "for email in spam + ham:\n",
    "    prob = is_spam(email)\n",
    "    if prob >= threshold and not email.spam:\n",
    "        fail_ham += 1\n",
    "    if prob < threshold and email.spam:\n",
    "        fail_spam += 1\n",
    "\n",
    "print(\"Result:\")\n",
    "print(\"error rate: {}%\".format(100 * (fail_ham + fail_spam) / (len(ham) + len(spam))))\n",
    "print(\"false positives: {}%\".format(100 * fail_ham / (len(ham) + len(spam))))\n",
    "print(\"false negatives: {}%\".format(100 * fail_spam / (len(ham) + len(spam))))"
   ]
  }
 ],
 "metadata": {
  "kernelspec": {
   "display_name": "Python 3",
   "language": "python",
   "name": "python3"
  },
  "language_info": {
   "codemirror_mode": {
    "name": "ipython",
    "version": 3
   },
   "file_extension": ".py",
   "mimetype": "text/x-python",
   "name": "python",
   "nbconvert_exporter": "python",
   "pygments_lexer": "ipython3",
   "version": "3.7.6"
  }
 },
 "nbformat": 4,
 "nbformat_minor": 4
}
