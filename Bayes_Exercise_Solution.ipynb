{
 "cells": [
  {
   "cell_type": "markdown",
   "metadata": {},
   "source": [
    "# Bayes Exercise (Solutions)\n",
    "The goal of the exercise is to implement a Bayesian Classifier which filters spam emails."
   ]
  },
  {
   "cell_type": "code",
   "execution_count": 1,
   "metadata": {},
   "outputs": [],
   "source": [
    "from collections import Counter\n",
    "from data import ham, spam\n",
    "from math import log, exp"
   ]
  },
  {
   "cell_type": "code",
   "execution_count": 2,
   "metadata": {},
   "outputs": [
    {
     "name": "stdout",
     "output_type": "stream",
     "text": [
      "1380 spam and 3001 ham emails loaded.\n"
     ]
    }
   ],
   "source": [
    "# Load data\n",
    "ham_words = []\n",
    "spam_words = []\n",
    "for email in ham:\n",
    "    ham_words += email.words\n",
    "for email in spam:\n",
    "    spam_words += email.words\n",
    "\n",
    "ham_counts = Counter(ham_words)\n",
    "spam_counts = Counter(spam_words)\n",
    "\n",
    "print(\"{} spam and {} ham emails loaded.\".format(len(spam), len(ham)))"
   ]
  },
  {
   "cell_type": "markdown",
   "metadata": {},
   "source": [
    "## Determine word probabilities\n",
    "Given the data in our emails, we need to find the probability that a given word appears in a certain message type."
   ]
  },
  {
   "cell_type": "code",
   "execution_count": 3,
   "metadata": {},
   "outputs": [],
   "source": [
    "# Conditional probability that a given word appears in a spam message\n",
    "def prob_word_given_spam(word):\n",
    "    return spam_counts[word] / len(spam_words)\n",
    "    \n",
    "# Conditional probability that a given word appears in a ham message\n",
    "def prob_word_given_ham(word):\n",
    "    return ham_counts[word] / len(ham_words)"
   ]
  },
  {
   "cell_type": "markdown",
   "metadata": {},
   "source": [
    "## Classify a given email\n",
    "To classify the emails, we use Bayes rule for computing conditional probabilities. We also assume the words occurrences are independent.\n",
    "\n",
    "Implement Bayes rule using the logarithmic expression\n",
    "\n",
    "$$\n",
    "  \\ln\\left( \\frac{1}{P(S|W)} - 1 \\right) = \\sum_i \\ln\\left( P(W_i|\\neg S) \\right) - \\ln\\left( P(W_i|S) \\right) + \\ln(P(\\neg S)) - \\ln(P(S)),\n",
    "$$\n",
    "\n",
    "to determine if a given message is spam or ham."
   ]
  },
  {
   "cell_type": "code",
   "execution_count": 4,
   "metadata": {},
   "outputs": [],
   "source": [
    "# Probability a given email is spam\n",
    "# Note: email has a field `words` which contains a list with all words in the message\n",
    "def is_spam(email, prior=0.5):\n",
    "    rhs_ln = 0\n",
    "    for word in email.words:\n",
    "        if prob_word_given_spam(word) == 0 or prob_word_given_ham(word) == 0:\n",
    "            # Discard words with too little data to make informed decision\n",
    "            continue\n",
    "        rhs_ln -= log(prob_word_given_spam(word))\n",
    "        rhs_ln += log(prob_word_given_ham(word))\n",
    "    rhs_ln -= log(prior)\n",
    "    rhs_ln += log(1 - prior)\n",
    "\n",
    "    return 1 / (exp(rhs_ln) + 1)"
   ]
  },
  {
   "cell_type": "markdown",
   "metadata": {},
   "source": [
    "## Run our classifier over the dataset\n",
    "\n",
    "The code below runs the classifier using the `is_spam` function defined above. Try adjusting the\n",
    "threshold and observe how it represents a trade-off between false negatives, false positives, and\n",
    "total error rate.\n",
    "\n",
    "Which of these is most important in the case of email processing?"
   ]
  },
  {
   "cell_type": "code",
   "execution_count": 5,
   "metadata": {},
   "outputs": [
    {
     "name": "stdout",
     "output_type": "stream",
     "text": [
      "Result:\n",
      "error rate: 8.057521113900936%\n",
      "false positives: 0.7076010043369094%\n",
      "false negatives: 7.349920109564026%\n"
     ]
    }
   ],
   "source": [
    "# What spam probibility rejects the message as spam\n",
    "threshold = 0.9\n",
    "\n",
    "fail_spam = 0\n",
    "fail_ham = 0\n",
    "for email in spam + ham:\n",
    "    prob = is_spam(email)\n",
    "    if prob >= threshold and not email.spam:\n",
    "        fail_ham += 1\n",
    "    if prob < threshold and email.spam:\n",
    "        fail_spam += 1\n",
    "\n",
    "print(\"Result:\")\n",
    "print(\"error rate: {}%\".format(100 * (fail_ham + fail_spam) / (len(ham) + len(spam))))\n",
    "print(\"false positives: {}%\".format(100 * fail_ham / (len(ham) + len(spam))))\n",
    "print(\"false negatives: {}%\".format(100 * fail_spam / (len(ham) + len(spam))))"
   ]
  }
 ],
 "metadata": {
  "kernelspec": {
   "display_name": "Python 3",
   "language": "python",
   "name": "python3"
  },
  "language_info": {
   "codemirror_mode": {
    "name": "ipython",
    "version": 3
   },
   "file_extension": ".py",
   "mimetype": "text/x-python",
   "name": "python",
   "nbconvert_exporter": "python",
   "pygments_lexer": "ipython3",
   "version": "3.7.6"
  }
 },
 "nbformat": 4,
 "nbformat_minor": 4
}
