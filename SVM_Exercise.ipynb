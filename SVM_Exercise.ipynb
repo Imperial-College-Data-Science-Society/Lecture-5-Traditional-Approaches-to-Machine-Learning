{
 "cells": [
  {
   "cell_type": "markdown",
   "metadata": {},
   "source": [
    "# SVM Exercise\n",
    "In this exercise, we will use the SVM optimizer provided by `sklearn` to explore using the kernel trick on the example given in the lecture."
   ]
  },
  {
   "cell_type": "code",
   "execution_count": null,
   "metadata": {},
   "outputs": [],
   "source": [
    "import matplotlib.pyplot as plt\n",
    "import numpy as np\n",
    "from sklearn import svm\n",
    "from data import points, labels"
   ]
  },
  {
   "cell_type": "code",
   "execution_count": null,
   "metadata": {},
   "outputs": [],
   "source": [
    "# Plot the data with lables\n",
    "for (label, p) in zip(labels, points):\n",
    "    plt.scatter(p[0], p[1], color=\"r\" if label < 0 else \"b\")\n",
    "plt.show()"
   ]
  },
  {
   "cell_type": "markdown",
   "metadata": {},
   "source": [
    "## Kernel function\n",
    "Recall from lectures that we can make the data linearly separable by using the map\n",
    "$$\n",
    "\\phi(\\vec x) = (x_1, x_2, x_1^2+x_2^2).\n",
    "$$\n",
    "\n",
    "Remember the form of the kernel $k(\\vec x, \\vec y)$ from the lecture and convince yourself that it is correct. Then implement it below. The [sklearn docs](https://scikit-learn.org/stable/modules/svm.html#svm-kernels) might be helpful here."
   ]
  },
  {
   "cell_type": "code",
   "execution_count": null,
   "metadata": {},
   "outputs": [],
   "source": [
    "# Kernel function k\n",
    "def k(x, y):\n",
    "    # TODO"
   ]
  },
  {
   "cell_type": "code",
   "execution_count": null,
   "metadata": {
    "scrolled": true
   },
   "outputs": [],
   "source": [
    "# Train and use the classifier\n",
    "clf = svm.SVC(kernel=k)\n",
    "clf.fit(points, labels)"
   ]
  },
  {
   "cell_type": "code",
   "execution_count": null,
   "metadata": {},
   "outputs": [],
   "source": [
    "# Display predictions\n",
    "labels_pred = clf.predict(points)\n",
    "for (pred, p) in zip(labels_pred, points):\n",
    "    plt.scatter(p[0], p[1], color=\"r\" if pred < 0 else \"b\")\n",
    "plt.show()"
   ]
  }
 ],
 "metadata": {
  "kernelspec": {
   "display_name": "Python 3",
   "language": "python",
   "name": "python3"
  },
  "language_info": {
   "codemirror_mode": {
    "name": "ipython",
    "version": 3
   },
   "file_extension": ".py",
   "mimetype": "text/x-python",
   "name": "python",
   "nbconvert_exporter": "python",
   "pygments_lexer": "ipython3",
   "version": "3.7.6"
  }
 },
 "nbformat": 4,
 "nbformat_minor": 4
}
